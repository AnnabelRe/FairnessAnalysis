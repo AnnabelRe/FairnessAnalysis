{
 "cells": [
  {
   "cell_type": "markdown",
   "id": "b5405bc5-1487-4431-998b-191901f21c0f",
   "metadata": {},
   "source": [
    "## Fairness Results - new from 31.03.2025"
   ]
  },
  {
   "cell_type": "code",
   "execution_count": null,
   "id": "509a391a-85e3-4d22-8657-c41492c54e75",
   "metadata": {},
   "outputs": [],
   "source": [
    "import pandas as pd\n",
    "import numpy as np\n",
    "import os\n",
    "\n",
    "import metrics_normalized\n",
    "import radar_chart\n",
    "import fairness_dashboard\n",
    "\n",
    "import pickle\n",
    "import seaborn as sns\n",
    "from scipy import stats\n",
    "from matplotlib import pyplot as plt\n",
    "\n",
    "import warnings\n",
    "warnings.filterwarnings(\"ignore\")"
   ]
  },
  {
   "cell_type": "code",
   "execution_count": null,
   "id": "f697f810-660c-4fbd-b917-ac6048bf7bdf",
   "metadata": {},
   "outputs": [],
   "source": [
    "#sensitive_attribute = \"nationality\"\n",
    "sensitive_attribute = \"gender\"\n",
    "\n",
    "#model = \"baseline\"\n",
    "#model = \"nosen\"\n",
    "#model = \"fgbm\"\n",
    "#model = \"hpt\"\n",
    "model=\"to\"\n",
    "#model = \"roc\"\n",
    "#model = \"eodds\"\n",
    "\n",
    "input_path = \"xxx\" # add customized local path to input folder\n",
    "output_path = \"xxx\" # add customized local path to output folder\n",
    "\n",
    "y_true = pd.read_pickle(input_path+\"y_test.pkl\")\n",
    "y_pred = pd.read_pickle(input_path+\"y_pred_te_baseline.pkl\")\n",
    "S_gen = pd.read_pickle(input_path+\"S_gender_test.pkl\")\n",
    "S_nat = pd.read_pickle(input_path+\"S_nat_test.pkl\")\n",
    "#y_pred_binary = (y_pred > 0.5).astype(int)\n",
    "\n",
    "if model == \"nosen\":\n",
    "    y_pred = pd.read_pickle(input_path+\"y_pred_lgbm_nosen.pkl\")[0].to_numpy()\n",
    "if model == \"fgbm\":\n",
    "    if sensitive_attribute == \"gender\":\n",
    "        y_pred = pd.read_pickle(input_path+\"y_pred_fgbm_gender.pkl\")[0].to_numpy()\n",
    "    else: y_pred = pd.read_pickle(input_path+\"y_pred_fgbm_nat.pkl\")[0].to_numpy()\n",
    "if model == \"hpt\":\n",
    "    if sensitive_attribute == \"gender\":\n",
    "        y_pred = pd.read_pickle(input_path+\"y_pred_fgbm_gen_hpt_v2.pkl\")[0].to_numpy()\n",
    "    else: y_pred = pd.read_pickle(input_path+\"y_pred_nat_FGBM_HPT_model.pkl\")[0].to_numpy()\n",
    "if model == \"to\":\n",
    "    y_pred = pd.read_pickle(input_path+\"ypred_to_nat_tprr_recall.pkl\")[0].to_numpy()\n",
    "if model == \"roc\":\n",
    "    if sensitive_attribute == \"gender\":\n",
    "        y_pred = pd.read_csv(input_path+\"y_pred_roc_gen_MF.csv\")[\"0\"].to_numpy().flatten()\n",
    "        #y_pred = pd.read_csv(input_path+\"y_pred_roc_gen_MU.csv\")[\"0\"].to_numpy().flatten()\n",
    "        #y_pred = pd.read_csv(input_path+\"y_pred_roc_gen_FU.csv\")[\"0\"].to_numpy().flatten()\n",
    "    else: y_pred  = pd.read_csv(input_path+\"y_pred_roc_nat_AU.csv\")[\"0\"].to_numpy().flatten()\n",
    "        #y_pred = pd.read_csv(input_path+\"y_pred_roc_nat_AU.pkl\").to_numpy().flatten()\n",
    "        #y_pred = pd.read_csv(input_path+\"y_pred_roc_nat_NAU.pkl\").to_numpy().flatten()\n",
    "if model == \"eodds\":\n",
    "    if sensitive_attribute == \"gender\":\n",
    "        y_pred = pd.read_csv(input_path+\"y_pred_eodds_gen_MF.csv\").to_numpy().flatten()\n",
    "        #y_pred = pd.read_csv(input_path+\"y_pred_eodds_gen_MU.csv\").to_numpy().flatten()\n",
    "        #y_pred = pd.read_csv(input_path+\"y_pred_eodds_gen_FU.csv\").to_numpy().flatten()\n",
    "    else: y_pred = pd.read_csv(input_path+\"y_pred_eodds_nat_AU.csv\").to_numpy().flatten()"
   ]
  },
  {
   "cell_type": "code",
   "execution_count": null,
   "id": "255f66d4-e299-4697-885d-70755eb97cb3",
   "metadata": {},
   "outputs": [],
   "source": [
    "if sensitive_attribute == \"gender\":\n",
    "    mapping  = {0: 'Male', 1: 'Female', 2: 'Unknown'}\n",
    "    groups = np.array([mapping[val] for val in S_gen])\n",
    "else:\n",
    "    mapping  = {0: 'Austrian', 1: 'Non-Austrian', 2: 'Unknown'}\n",
    "    groups = np.array([mapping[val] for val in S_nat])\n",
    "    \n",
    "df = pd.DataFrame({\n",
    "    'Group': groups,\n",
    "    'Pred': y_pred,\n",
    "    'True':y_true\n",
    "})\n",
    "df.head(3)"
   ]
  },
  {
   "cell_type": "code",
   "execution_count": null,
   "id": "3b3a09fa-b1d6-46a3-ba41-4cb93c28f771",
   "metadata": {},
   "outputs": [],
   "source": [
    "metrics_dict = {}\n",
    "\n",
    "for group in df['Group'].unique():\n",
    "    group_data = df[df['Group'] == group]\n",
    "    y_true = group_data['True']\n",
    "    y_pred = group_data['Pred']\n",
    "    #metrics_dict[group] = metrics.group_stats(y_true, y_pred)\n",
    "    metrics_dict[group] = metrics_normalized.group_stats(y_true, y_pred)"
   ]
  },
  {
   "cell_type": "code",
   "execution_count": null,
   "id": "3e4a6cd6-5092-4116-bbb1-22b1ce530102",
   "metadata": {},
   "outputs": [],
   "source": [
    "df_metrics = pd.DataFrame.from_dict(metrics_dict,orient='index')\n",
    "df_metrics.round(4)"
   ]
  },
  {
   "cell_type": "code",
   "execution_count": null,
   "id": "5fb259aa-1561-4742-af3b-9af8ff71975c",
   "metadata": {},
   "outputs": [],
   "source": [
    "results = metrics_normalized.calculate_fairness_metrics(metrics_dict[\"Male\"], metrics_dict[\"Female\"])"
   ]
  },
  {
   "cell_type": "code",
   "execution_count": null,
   "id": "fb9a5bfa-b8f4-4141-b98f-f36653fc59d2",
   "metadata": {},
   "outputs": [],
   "source": [
    "with open(output_path+'results_roc_MF.pkl', 'wb') as file:\n",
    "    pickle.dump(results, file)"
   ]
  },
  {
   "cell_type": "code",
   "execution_count": null,
   "id": "c9b97db5-0166-4af8-8d9d-71e3c4c53b4e",
   "metadata": {
    "tags": []
   },
   "outputs": [],
   "source": [
    "results[1].popitem()\n",
    "results[2].popitem()\n",
    "radar_chart.plot_fairness_radar(results[1], results[2], filename=output_path+\"radar_roc_MF.png\")"
   ]
  },
  {
   "cell_type": "code",
   "execution_count": null,
   "id": "074244e8-876d-49b7-9f1b-7524a738479c",
   "metadata": {
    "tags": []
   },
   "outputs": [],
   "source": [
    "fairness_dashboard.bar_chart(results[3],results[4],output_path+\"fairness_roc_MF.png\")"
   ]
  }
 ],
 "metadata": {
  "kernelspec": {
   "display_name": "Python 3 (ipykernel)",
   "language": "python",
   "name": "python3"
  },
  "language_info": {
   "codemirror_mode": {
    "name": "ipython",
    "version": 3
   },
   "file_extension": ".py",
   "mimetype": "text/x-python",
   "name": "python",
   "nbconvert_exporter": "python",
   "pygments_lexer": "ipython3",
   "version": "3.9.12"
  }
 },
 "nbformat": 4,
 "nbformat_minor": 5
}
