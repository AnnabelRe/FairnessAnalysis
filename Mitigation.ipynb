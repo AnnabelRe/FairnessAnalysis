{
 "cells": [
  {
   "cell_type": "markdown",
   "metadata": {},
   "source": [
    "## Run all Post-Processing Mitigation methods"
   ]
  },
  {
   "cell_type": "markdown",
   "metadata": {},
   "source": [
    "Threshold Optimizer for Equalized Opportunity - Fairlearn"
   ]
  },
  {
   "cell_type": "code",
   "execution_count": null,
   "metadata": {},
   "outputs": [],
   "source": [
    "import pandas as pd\n",
    "import numpy as np\n",
    "import os\n",
    "import pickle\n",
    "\n",
    "import skops.io as sio\n",
    "import seaborn as sns\n",
    "from matplotlib import pyplot as plt\n",
    "import fairgbm as fgbm\n",
    "import lightgbm as lgbm\n",
    "\n",
    "import json\n",
    "import pandas as pd\n",
    "\n",
    "from fairlearn.postprocessing import ThresholdOptimizer, plot_threshold_optimizer\n",
    "from fairlearn.reductions import DemographicParity, ExponentiatedGradient\n",
    "\n",
    "import sys\n",
    "sys.path.append(\"../\")\n",
    "import numpy as np\n",
    "from tqdm import tqdm\n",
    "\n",
    "from aif360.datasets import BinaryLabelDataset\n",
    "from aif360.metrics import ClassificationMetric\n",
    "from aif360.metrics import ClassificationMetric, BinaryLabelDatasetMetric\n",
    "\n",
    "from reject_option_classification import RejectOptionClassification as ROC\n",
    "from aif360 import *\n",
    "from sklearn.metrics import recall_score\n",
    "\n",
    "from PP_Mitigation import *\n",
    "\n",
    "from IPython.display import Markdown, display\n",
    "import matplotlib.pyplot as plt\n",
    "#from ipywidgets import interactive, FloatSlider\n",
    "\n",
    "import warnings\n",
    "warnings.filterwarnings(\"ignore\")"
   ]
  },
  {
   "cell_type": "markdown",
   "metadata": {},
   "source": [
    "### Run Mitigation Techniques"
   ]
  },
  {
   "cell_type": "code",
   "execution_count": null,
   "metadata": {},
   "outputs": [],
   "source": [
    "X_train= pd.read_pickle(\"X_train_nos.pkl\")\n",
    "X_test = pd.read_pickle(\"X_test_nos.pkl\")\n",
    "\n",
    "model = 'LGBM_Baseline.skops'\n",
    "#model ='fgbm_hpt_vs_bestmodel.skops'\n",
    "unknown_types = sio.get_untrusted_types(file = model)\n",
    "clf=sio.load(model,trusted=unknown_types)\n",
    "\n",
    "y_pred_probs = clf.predict_proba(X_train)[:, 1].reshape(-1,1)\n",
    "\n",
    "y_pred_test = clf.predict_proba(X_test)[:, 1].reshape(-1,1)"
   ]
  },
  {
   "cell_type": "code",
   "execution_count": null,
   "metadata": {},
   "outputs": [],
   "source": [
    "clf.n_features_"
   ]
  },
  {
   "cell_type": "code",
   "execution_count": null,
   "metadata": {},
   "outputs": [],
   "source": [
    "fgbm_models_gen = ['fgbm_hpt_vs_bestmodel.skops', ]\n",
    "fgbm_models_nat = ['fgbm_hpt_vs_bestmodel.skops', ]\n",
    "models = ['LGBM_Baseline.skops']\n",
    "\n",
    "pps = [\"ROC\" ,'threshOpt']\n",
    "\n",
    "sens_atts = [\"gender\" ,'nat']"
   ]
  },
  {
   "cell_type": "code",
   "execution_count": null,
   "metadata": {},
   "outputs": [],
   "source": [
    "time_all = {}\n",
    "#model ='fgbm_hpt_vs_bestmodel.skops'\n",
    "\n",
    "for model in models:\n",
    "    for pp in pps:\n",
    "        for sens_att in sens_atts:\n",
    "            time = run_pp_mitigation(pp,model,sens_att)\n",
    "            time_all[time[0]] = time[1]\n",
    "\n",
    "for model in fgbm_models_gen:\n",
    "    for pp in pps:\n",
    "        sens_att = \"gender\"\n",
    "        time = run_pp_mitigation(pp,model,sens_att)\n",
    "        time_all[time[0]] = time[1]\n",
    "\n",
    "for model in fgbm_models_nat:\n",
    "    for pp in pps:\n",
    "        sens_att = \"nat\"\n",
    "        time = run_pp_mitigation(pp,model,sens_att)\n",
    "        time_all[time[0]] = time[1]"
   ]
  },
  {
   "cell_type": "code",
   "execution_count": null,
   "metadata": {},
   "outputs": [],
   "source": [
    "time_all = {}\n",
    "\n",
    "pp = \"ROC\"\n",
    "sens_att = \"gender\"\n",
    "model ='fgbm_hpt_vs_bestmodel.skops'\n",
    "\n",
    "time = run_pp_mitigation(pp,model,sens_att)\n",
    "\n",
    "time_all[time[0]] = time[1]\n"
   ]
  }
 ],
 "metadata": {
  "kernelspec": {
   "display_name": "Python 3 (ipykernel)",
   "language": "python",
   "name": "python3"
  },
  "language_info": {
   "codemirror_mode": {
    "name": "ipython",
    "version": 3
   },
   "file_extension": ".py",
   "mimetype": "text/x-python",
   "name": "python",
   "nbconvert_exporter": "python",
   "pygments_lexer": "ipython3",
   "version": "3.9.12"
  }
 },
 "nbformat": 4,
 "nbformat_minor": 4
}
